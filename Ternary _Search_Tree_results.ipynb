{
 "cells": [
  {
   "cell_type": "markdown",
   "id": "33764a51",
   "metadata": {},
   "source": [
    "This notebook presents a report on the implementation, testing and discussion on the benchmarking of the Ternary Search Tree(TST). Based on a the jupyter notebook provided for demonstration and testing purposes, all tests were passed as shown in the output.\n",
    "\n",
    "Benchmarking was carried out on HPC with the output provided in the repository. The performance section presents a brief discussion of the output files containing the performance of the insertion and searching algorithms. "
   ]
  },
  {
   "cell_type": "markdown",
   "id": "04d969e0",
   "metadata": {},
   "source": [
    "### Testing "
   ]
  },
  {
   "cell_type": "code",
   "execution_count": 1,
   "id": "6ab1d97f",
   "metadata": {},
   "outputs": [],
   "source": [
    "%load_ext autoreload\n",
    "%autoreload 2"
   ]
  },
  {
   "cell_type": "code",
   "execution_count": 2,
   "id": "b5079435-5946-40c9-ad6a-b620c509087d",
   "metadata": {},
   "outputs": [],
   "source": [
    "from ternary_search_tree import TernarySearchTree"
   ]
  },
  {
   "cell_type": "code",
   "execution_count": 3,
   "id": "bbde82fc",
   "metadata": {},
   "outputs": [],
   "source": [
    "tst = TernarySearchTree()"
   ]
  },
  {
   "cell_type": "code",
   "execution_count": 4,
   "id": "8b268610",
   "metadata": {},
   "outputs": [],
   "source": [
    "tst.insert('abc')"
   ]
  },
  {
   "cell_type": "code",
   "execution_count": 5,
   "id": "c76cf149",
   "metadata": {},
   "outputs": [
    {
     "name": "stdout",
     "output_type": "stream",
     "text": [
      "terminates: False\n",
      "       char: a, Terminates: False\n",
      "_eq:         char: b, Terminates: False\n",
      "_eq:           char: c, Terminates: True\n"
     ]
    }
   ],
   "source": [
    "print(tst)"
   ]
  },
  {
   "cell_type": "code",
   "execution_count": 6,
   "id": "48eb531c",
   "metadata": {},
   "outputs": [],
   "source": [
    "tst.insert('aqt')"
   ]
  },
  {
   "cell_type": "code",
   "execution_count": 7,
   "id": "aa863803",
   "metadata": {},
   "outputs": [
    {
     "name": "stdout",
     "output_type": "stream",
     "text": [
      "terminates: False\n",
      "       char: a, Terminates: False\n",
      "_eq:         char: b, Terminates: False\n",
      "_eq:           char: c, Terminates: True\n",
      "_gt:           char: q, Terminates: False\n",
      "_eq:             char: t, Terminates: True\n"
     ]
    }
   ],
   "source": [
    "print(tst)"
   ]
  },
  {
   "cell_type": "code",
   "execution_count": 8,
   "id": "499a4f46",
   "metadata": {},
   "outputs": [
    {
     "data": {
      "text/plain": [
       "2"
      ]
     },
     "execution_count": 8,
     "metadata": {},
     "output_type": "execute_result"
    }
   ],
   "source": [
    "len(tst)\n"
   ]
  },
  {
   "cell_type": "code",
   "execution_count": 9,
   "id": "18019ec9",
   "metadata": {},
   "outputs": [
    {
     "data": {
      "text/plain": [
       "['abc', 'aqt']"
      ]
     },
     "execution_count": 9,
     "metadata": {},
     "output_type": "execute_result"
    }
   ],
   "source": [
    "tst.all_strings()"
   ]
  },
  {
   "cell_type": "code",
   "execution_count": 10,
   "id": "f3eab79b",
   "metadata": {},
   "outputs": [
    {
     "data": {
      "text/plain": [
       "True"
      ]
     },
     "execution_count": 10,
     "metadata": {},
     "output_type": "execute_result"
    }
   ],
   "source": [
    "tst.search('ab')"
   ]
  },
  {
   "cell_type": "code",
   "execution_count": 11,
   "id": "98d41fbe",
   "metadata": {},
   "outputs": [
    {
     "data": {
      "text/plain": [
       "False"
      ]
     },
     "execution_count": 11,
     "metadata": {},
     "output_type": "execute_result"
    }
   ],
   "source": [
    "tst.search('ac')"
   ]
  },
  {
   "cell_type": "code",
   "execution_count": 12,
   "id": "13d1f191",
   "metadata": {},
   "outputs": [],
   "source": [
    "tst.insert('')"
   ]
  },
  {
   "cell_type": "code",
   "execution_count": 13,
   "id": "053edf9c",
   "metadata": {},
   "outputs": [
    {
     "data": {
      "text/plain": [
       "3"
      ]
     },
     "execution_count": 13,
     "metadata": {},
     "output_type": "execute_result"
    }
   ],
   "source": [
    "len(tst)"
   ]
  },
  {
   "cell_type": "code",
   "execution_count": 14,
   "id": "df8c47b9",
   "metadata": {},
   "outputs": [
    {
     "name": "stdout",
     "output_type": "stream",
     "text": [
      "terminates: True\n",
      "       char: a, Terminates: False\n",
      "_eq:         char: b, Terminates: False\n",
      "_eq:           char: c, Terminates: True\n",
      "_gt:           char: q, Terminates: False\n",
      "_eq:             char: t, Terminates: True\n"
     ]
    }
   ],
   "source": [
    "print(tst)"
   ]
  },
  {
   "cell_type": "code",
   "execution_count": 15,
   "id": "26c785be",
   "metadata": {},
   "outputs": [
    {
     "data": {
      "text/plain": [
       "['', 'abc', 'aqt']"
      ]
     },
     "execution_count": 15,
     "metadata": {},
     "output_type": "execute_result"
    }
   ],
   "source": [
    "tst.all_strings()"
   ]
  },
  {
   "cell_type": "code",
   "execution_count": 16,
   "id": "f7d9a212",
   "metadata": {},
   "outputs": [],
   "source": [
    "tst = TernarySearchTree()\n",
    "with open('data/search_trees/insert_words.txt') as file:\n",
    "    words = [\n",
    "        line.strip() for line in file\n",
    "    ]\n",
    "for word in words:\n",
    "    tst.insert(word)\n",
    "unique_words = set(words)"
   ]
  },
  {
   "cell_type": "code",
   "execution_count": 17,
   "id": "7f41ad22",
   "metadata": {},
   "outputs": [],
   "source": [
    "assert len(tst) == len(unique_words), \\\n",
    "       f'{len(tst)} in tree, expected {len(unique_words)}'"
   ]
  },
  {
   "cell_type": "code",
   "execution_count": 18,
   "id": "2c8e7f53",
   "metadata": {},
   "outputs": [],
   "source": [
    "for word in unique_words:\n",
    "    assert tst.search(word), f'{word} not found'"
   ]
  },
  {
   "cell_type": "code",
   "execution_count": 19,
   "id": "0d8522bf",
   "metadata": {},
   "outputs": [],
   "source": [
    "for word in unique_words:\n",
    "    for i in range(len(word) - 1, 0, -1):\n",
    "        prefix = word[:i]\n",
    "        assert tst.search(prefix), f'{prefix} not found'"
   ]
  },
  {
   "cell_type": "code",
   "execution_count": 20,
   "id": "3a24cd83",
   "metadata": {},
   "outputs": [],
   "source": [
    "for word in unique_words:\n",
    "    for i in range(len(word), 0, -1):\n",
    "        prefix = word[:i]\n",
    "        if prefix not in unique_words:\n",
    "            assert not tst.search(prefix, exact=True), \\\n",
    "                   f'{prefix} found'"
   ]
  },
  {
   "cell_type": "code",
   "execution_count": 21,
   "id": "957a6faf",
   "metadata": {},
   "outputs": [],
   "source": [
    "assert tst.search(''), 'empty string not found'"
   ]
  },
  {
   "cell_type": "code",
   "execution_count": 22,
   "id": "4c32be24",
   "metadata": {},
   "outputs": [],
   "source": [
    "assert not tst.search('', exact=True), 'empty string found'"
   ]
  },
  {
   "cell_type": "code",
   "execution_count": 23,
   "id": "a4336c66",
   "metadata": {},
   "outputs": [],
   "source": [
    "with open('data/search_trees/not_insert_words.txt') as file:\n",
    "    for line in file:\n",
    "        word = line.strip()\n",
    "        assert not tst.search(word), f'{word} should not be found'"
   ]
  },
  {
   "cell_type": "code",
   "execution_count": 24,
   "id": "d7084788",
   "metadata": {},
   "outputs": [],
   "source": [
    "all_strings = tst.all_strings()\n",
    "assert len(all_strings) == len(unique_words), \\\n",
    "       f'{len(all_strings)} words, expected {len(unique_words)}'\n",
    "assert sorted(all_strings) == sorted(unique_words), 'words do not match'"
   ]
  },
  {
   "cell_type": "markdown",
   "id": "a2c32bc4",
   "metadata": {},
   "source": [
    "# Performance"
   ]
  },
  {
   "cell_type": "markdown",
   "id": "09359b91",
   "metadata": {},
   "source": [
    "The benchmarking involved increasing the number of words and also the number of runs was changed from 10, 30 and 100 to observe any changes. The final number of runs used was 30 as it seemed sufficient to provide accurate results."
   ]
  },
  {
   "cell_type": "markdown",
   "id": "58ce8c98",
   "metadata": {},
   "source": [
    "#### Insertion Benchmark"
   ]
  },
  {
   "cell_type": "code",
   "execution_count": 25,
   "id": "858b69b9",
   "metadata": {},
   "outputs": [
    {
     "data": {
      "text/plain": [
       "{100: 0.0,\n",
       " 500: 0.10887,\n",
       " 1000: 0.0,\n",
       " 5000: 0.09963,\n",
       " 10000: 0.10091,\n",
       " 20000: 0.0,\n",
       " 30000: 0.0,\n",
       " 40000: 0.0983,\n",
       " 50000: 0.09176}"
      ]
     },
     "execution_count": 25,
     "metadata": {},
     "output_type": "execute_result"
    }
   ],
   "source": [
    "import random\n",
    "import time\n",
    "import matplotlib.pyplot as plt\n",
    "\n",
    "with open('data/search_trees/corncob_lowercase.txt') as file:\n",
    "    words = [line.strip() for line in file]\n",
    "\n",
    "sizes = [100, 500, 1_000, 5_000, 10_000, 20_000, 30_000, 40_000, 50_000]\n",
    "samples = [\n",
    "    random.sample(words, k=size) for size in sizes\n",
    "]\n",
    "\n",
    "nr_runs = 10\n",
    "times = {}\n",
    "insert_sample = random.sample(words, k=20)\n",
    "for sample in samples:\n",
    "    tstree = TernarySearchTree()\n",
    "    for word in sample:\n",
    "        tstree.insert(word)\n",
    "    times[len(sample)] = 0.0\n",
    "    for _ in range(nr_runs):\n",
    "        start_time = time.time_ns()\n",
    "        for word in insert_sample:\n",
    "            tstree.insert(word)\n",
    "        end_time = time.time_ns()\n",
    "        times[len(sample)] += end_time - start_time\n",
    "    times[len(sample)] /= nr_runs*1_000_000.0\n",
    "times"
   ]
  },
  {
   "cell_type": "code",
   "execution_count": 26,
   "id": "05493085",
   "metadata": {},
   "outputs": [
    {
     "data": {
      "image/png": "[encoded data removed]",
      "text/plain": [
       "<Figure size 640x480 with 1 Axes>"
      ]
     },
     "metadata": {},
     "output_type": "display_data"
    }
   ],
   "source": [
    "plt.plot(times.keys(), times.values());"
   ]
  },
  {
   "cell_type": "markdown",
   "id": "1a09387e",
   "metadata": {},
   "source": [
    "#### Results from HPC"
   ]
  },
  {
   "cell_type": "markdown",
   "id": "d9449695",
   "metadata": {},
   "source": [
    "From the results, we observe that as the number of words increases, the average time per insertion also increases. This is expected, as a larger tree leads to greater depth and more comparisons during insertion, thereby increasing the operations's cost. Wit smaller trees, the insertions are faster due to less traversing involved."
   ]
  },
  {
   "cell_type": "markdown",
   "id": "37a1e626",
   "metadata": {},
   "source": [
    "![Description of image](insertion_benchmark_plot.png)"
   ]
  },
  {
   "cell_type": "markdown",
   "id": "4b5931b3",
   "metadata": {},
   "source": [
    "#### Search Benchmark"
   ]
  },
  {
   "cell_type": "code",
   "execution_count": 27,
   "id": "5dd4a884",
   "metadata": {},
   "outputs": [
    {
     "data": {
      "text/plain": [
       "{100: 0.09851,\n",
       " 500: 0.0,\n",
       " 1000: 0.1052,\n",
       " 5000: 0.0,\n",
       " 10000: 0.1012,\n",
       " 20000: 0.09964,\n",
       " 30000: 0.11811,\n",
       " 40000: 0.09934,\n",
       " 50000: 0.15298}"
      ]
     },
     "execution_count": 27,
     "metadata": {},
     "output_type": "execute_result"
    }
   ],
   "source": [
    "nr_runs = 10\n",
    "times = {}\n",
    "insert_sample = random.sample(words, k=20)\n",
    "for sample in samples:\n",
    "    tstree = TernarySearchTree()\n",
    "    for word in sample:\n",
    "        tstree.insert(word)\n",
    "    times[len(sample)] = 0.0\n",
    "    for _ in range(nr_runs):\n",
    "        start_time = time.time_ns()\n",
    "        for word in insert_sample:\n",
    "            tstree.search(word)\n",
    "        end_time = time.time_ns()\n",
    "        times[len(sample)] += end_time - start_time\n",
    "    times[len(sample)] /= nr_runs*1_000_000.0\n",
    "times"
   ]
  },
  {
   "cell_type": "code",
   "execution_count": 28,
   "id": "616b0212",
   "metadata": {},
   "outputs": [
    {
     "data": {
      "image/png": "[encoded data removed]",
      "text/plain": [
       "<Figure size 640x480 with 1 Axes>"
      ]
     },
     "metadata": {},
     "output_type": "display_data"
    }
   ],
   "source": [
    "plt.plot(times.keys(), times.values());"
   ]
  },
  {
   "cell_type": "markdown",
   "id": "e24e45dd",
   "metadata": {},
   "source": [
    "#### Results from HPC"
   ]
  },
  {
   "cell_type": "markdown",
   "id": "4e3fa77a",
   "metadata": {},
   "source": [
    "For the output for the searching operation, a similar pattern is observed as the number of search queries increases, the total search time increases. The size of the ternary search tree affects the search time and this is expected as with larger trees, as the depth is larger and requires more traversal. The TST can handle upto 30,000 words quite efficiently as the search times are within a reasonable range upto 150 ms."
   ]
  },
  {
   "cell_type": "markdown",
   "id": "9d009601",
   "metadata": {},
   "source": [
    "![Description of image](searching_benchmark_plot.png)\n"
   ]
  },
  {
   "cell_type": "markdown",
   "id": "3840419b",
   "metadata": {},
   "source": []
  }
 ],
 "metadata": {
  "kernelspec": {
   "display_name": "Python 3",
   "language": "python",
   "name": "python3"
  },
  "language_info": {
   "codemirror_mode": {
    "name": "ipython",
    "version": 3
   },
   "file_extension": ".py",
   "mimetype": "text/x-python",
   "name": "python",
   "nbconvert_exporter": "python",
   "pygments_lexer": "ipython3",
   "version": "3.11.7"
  }
 },
 "nbformat": 4,
 "nbformat_minor": 5
}
